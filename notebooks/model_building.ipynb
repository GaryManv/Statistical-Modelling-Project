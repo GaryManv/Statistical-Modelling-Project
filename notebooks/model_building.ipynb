{
 "cells": [
  {
   "cell_type": "markdown",
   "metadata": {},
   "source": [
    "Build a regression model."
   ]
  },
  {
   "cell_type": "code",
   "execution_count": 31,
   "metadata": {
    "tags": []
   },
   "outputs": [],
   "source": [
    "import pandas as pd\n",
    "import statsmodels.api as sm\n",
    "import matplotlib.pyplot as plt\n",
    "%store -r merged_df\n",
    "%store -r df_bike\n",
    "\n",
    "\n",
    "# Define the target variable (number of bikes) and predictor variables (Restaurants charachteristic)\n",
    "x = merged_df['Distance']\n",
    "y = merged_df['Free Bikes']\n",
    "\n",
    "# Add a constant to X\n",
    "X = sm.add_constant(x)\n",
    "\n",
    "# Fit the regression model\n",
    "model = sm.OLS(y, X).fit()"
   ]
  },
  {
   "cell_type": "code",
   "execution_count": null,
   "metadata": {},
   "outputs": [],
   "source": []
  },
  {
   "cell_type": "markdown",
   "metadata": {},
   "source": [
    "Provide model output and an interpretation of the results. "
   ]
  },
  {
   "cell_type": "code",
   "execution_count": 32,
   "metadata": {
    "tags": []
   },
   "outputs": [
    {
     "name": "stdout",
     "output_type": "stream",
     "text": [
      "                            OLS Regression Results                            \n",
      "==============================================================================\n",
      "Dep. Variable:             Free Bikes   R-squared:                       0.001\n",
      "Model:                            OLS   Adj. R-squared:                 -0.010\n",
      "Method:                 Least Squares   F-statistic:                    0.1202\n",
      "Date:                Fri, 04 Aug 2023   Prob (F-statistic):              0.730\n",
      "Time:                        15:30:29   Log-Likelihood:                -299.44\n",
      "No. Observations:                  91   AIC:                             602.9\n",
      "Df Residuals:                      89   BIC:                             607.9\n",
      "Df Model:                           1                                         \n",
      "Covariance Type:            nonrobust                                         \n",
      "==============================================================================\n",
      "                 coef    std err          t      P>|t|      [0.025      0.975]\n",
      "------------------------------------------------------------------------------\n",
      "const         10.6339      1.218      8.730      0.000       8.214      13.054\n",
      "Distance      -0.0014      0.004     -0.347      0.730      -0.010       0.007\n",
      "==============================================================================\n",
      "Omnibus:                       10.383   Durbin-Watson:                   0.321\n",
      "Prob(Omnibus):                  0.006   Jarque-Bera (JB):               10.388\n",
      "Skew:                           0.772   Prob(JB):                      0.00555\n",
      "Kurtosis:                       2.405   Cond. No.                         517.\n",
      "==============================================================================\n",
      "\n",
      "Notes:\n",
      "[1] Standard Errors assume that the covariance matrix of the errors is correctly specified.\n"
     ]
    }
   ],
   "source": [
    "# Print the summary of the model\n",
    "print(model.summary())"
   ]
  },
  {
   "cell_type": "code",
   "execution_count": 33,
   "metadata": {
    "tags": []
   },
   "outputs": [
    {
     "data": {
      "image/png": "[encoded data removed]",
      "text/plain": [
       "<Figure size 1000x600 with 1 Axes>"
      ]
     },
     "metadata": {},
     "output_type": "display_data"
    }
   ],
   "source": [
    "# Create a scatter plot\n",
    "plt.figure(figsize=(10, 6))\n",
    "plt.scatter(x,y)\n",
    "plt.xlabel('Distance')\n",
    "plt.ylabel('Free Bikes')\n",
    "plt.title('Distance vs. Free Bikes')\n",
    "plt.grid(True)\n",
    "plt.show()"
   ]
  },
  {
   "cell_type": "markdown",
   "metadata": {
    "tags": []
   },
   "source": [
    "**R=0.001 in linear regression model means that relationship between 'Distances' and 'Free Bikes' is weak.**\n",
    "\n",
    "**The coefficient for 'Distance' is -0.0014 which means that as far you are from the central location then less you can find free bikes. This statement is doubtable as we limited our search for data while parsing data from city_bikes site.\n",
    "P-value is 0.008<0.05 which means that we can reject the null hypothesis (relationship between distnces and bikes\"**"
   ]
  },
  {
   "cell_type": "markdown",
   "metadata": {},
   "source": [
    "# Stretch"
   ]
  },
  {
   "cell_type": "markdown",
   "metadata": {},
   "source": [
    "How can you turn the regression model into a classification model?"
   ]
  },
  {
   "cell_type": "markdown",
   "metadata": {
    "tags": []
   },
   "source": [
    "Can be splited into two classes with \"bikes low availability\" and \"bikes high avialibility\"\n",
    "Treshhold can be 25.\n"
   ]
  },
  {
   "cell_type": "code",
   "execution_count": null,
   "metadata": {},
   "outputs": [],
   "source": []
  }
 ],
 "metadata": {
  "kernelspec": {
   "display_name": "Python 3 (ipykernel)",
   "language": "python",
   "name": "python3"
  },
  "language_info": {
   "codemirror_mode": {
    "name": "ipython",
    "version": 3
   },
   "file_extension": ".py",
   "mimetype": "text/x-python",
   "name": "python",
   "nbconvert_exporter": "python",
   "pygments_lexer": "ipython3",
   "version": "3.11.3"
  }
 },
 "nbformat": 4,
 "nbformat_minor": 4
}
