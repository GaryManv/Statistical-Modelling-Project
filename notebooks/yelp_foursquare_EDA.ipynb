{
 "cells": [
  {
   "cell_type": "markdown",
   "metadata": {},
   "source": [
    "# Foursquare"
   ]
  },
  {
   "cell_type": "markdown",
   "metadata": {},
   "source": [
    "Send a request to Foursquare with a small radius (1000m) for all the bike stations in your city of choice. "
   ]
  },
  {
   "cell_type": "code",
   "execution_count": 23,
   "metadata": {
    "tags": []
   },
   "outputs": [
    {
     "name": "stdout",
     "output_type": "stream",
     "text": [
      "43.665269 -79.319796 fb337bbed72e2be090071e199899b2be\n",
      "43.67142 -79.445947 4ff88d5880e71aa40d34cfe5d09b0ca7\n",
      "43.666224 -79.317693 a09c67c0b419654d907c9134b108e328\n",
      "43.653236 -79.376716 d6a9daee68070a8b106cfb598d81308c\n",
      "43.663722 -79.380288 8f8af40d9388c8a3962559e8681d3db7\n",
      "43.657763 -79.389165 5a441560e262305d1934fb3ada5a9517\n",
      "43.656729 -79.382736 18ea490ab3ca4d10e2927308416edbef\n",
      "43.664467 -79.414783 b7850948607474362d3728f19a77fdff\n",
      "43.675492 -79.388858 7ffd06e0207f80fe1ff6b5ae0bb0544c\n",
      "43.674991 -79.396273 17fadbdc5848036c8485099bbf517294\n",
      "43.671944 -79.387778 843dcb87ce2ddb002d2b2900a5418355\n"
     ]
    }
   ],
   "source": [
    "import requests\n",
    "import pandas as pd\n",
    "import os\n",
    "\n",
    "# Retrieve the DataFrame from the IPython store\n",
    "%store -r df_bike\n",
    "#df_bikes = pd.read_csv(\"city_bikes_ll_2.csv\") # reading locations for bike stations (from previous task) // was checking alternative \n",
    "api_key = os.environ[\"location\"]\n",
    "\n",
    "headers = {\"Accept\": \"application/json\"} # Create dictionary for headers\n",
    "\n",
    "headers['Authorization'] = api_key # Add key with our API KEY\n",
    "\n",
    "fqr_restaurant_data = [] # here will store data for restaurants\n",
    "i=0\n",
    "# Loop through each bike station in df_bike\n",
    "for index, station in df_bike.iterrows():\n",
    "    i+=1\n",
    "    latitude = station[\"Latitude\"]\n",
    "    longitude = station[\"Longitude\"]\n",
    "    station_id=station[\"Station_id\"] # will need in order to join together data from city_bikes,yelp and foursquare\n",
    "    print(latitude,longitude,station_id)\n",
    "    if i>10:\n",
    "        break\n",
    "    # Query Foursquare API for restaurants\n",
    "    foursquare_url = \"https://api.foursquare.com/v3/places/search\"\n",
    "    foursquare_params = {\n",
    "        \"ll\": f\"{latitude},{longitude}\",\n",
    "        \"radius\": 1000,  # Define the radius to search for venues around the bike station (in meters)\n",
    "        \"query\": \"restaurant\",\n",
    "        \"limit\":10 # limiting number of bussines results to 10\n",
    "     }\n",
    "    foursquare_response = requests.get(foursquare_url, headers=headers,params=foursquare_params)\n",
    "    #print(foursquare_response)\n",
    "    if foursquare_response.status_code == 200:\n",
    "        foursquare_data = foursquare_response.json()\n",
    "        #print(foursquare_data)\n",
    "        for restaurant_fqr in foursquare_data[\"results\"]:\n",
    "             # Add the station ID to the restaurant data\n",
    "            restaurant_fqr[\"Station_id\"] = station_id\n",
    "            restaurant_fqr[\"Rating_fqr\"]=0\n",
    "        fqr_restaurant_data.extend(foursquare_data[\"results\"])\n",
    "    else:\n",
    "        print(f\"Failed to fetch Foursquare data for station {index}.\")"
   ]
  },
  {
   "cell_type": "markdown",
   "metadata": {},
   "source": [
    "Parse through the response to get the POI (such as restaurants, bars, etc) details you want (ratings, name, location, etc)"
   ]
  },
  {
   "cell_type": "markdown",
   "metadata": {},
   "source": [
    "Put your parsed results into a DataFrame"
   ]
  },
  {
   "cell_type": "code",
   "execution_count": 18,
   "metadata": {
    "tags": []
   },
   "outputs": [
    {
     "name": "stdout",
     "output_type": "stream",
     "text": [
      "Stored 'fqr_restaurant_df_selected' (DataFrame)\n"
     ]
    }
   ],
   "source": [
    "\n",
    "fqr_restaurant_df = pd.DataFrame(fqr_restaurant_data)\n",
    "\n",
    "# Initialize lists to store the extracted data from foursquere\n",
    "fqr_names = []\n",
    "fqr_latitudes = []\n",
    "fqr_longitudes = []\n",
    "fqr_distances = []\n",
    "fqr_station_ids=[]\n",
    "fqr_ratings=[]\n",
    "\n",
    "for index in range(len(fqr_restaurant_df)):\n",
    "    fqr_longitude =fqr_restaurant_df['geocodes'].iloc[index]['main']['longitude']\n",
    "    fqr_latitude =fqr_restaurant_df['geocodes'].iloc[index]['main']['latitude']\n",
    "    fqr_name=fqr_restaurant_df.iloc[index]['name']\n",
    "    fqr_distance=fqr_restaurant_df.iloc[index]['distance']\n",
    "    fqr_station_id=fqr_restaurant_df.iloc[index]['Station_id']\n",
    "    fqr_rating=fqr_restaurant_df.iloc[index]['Rating_fqr']\n",
    "    \n",
    "    # Append the data to the corresponding lists\n",
    "    fqr_names.append(fqr_name)\n",
    "    fqr_latitudes.append(fqr_latitude)\n",
    "    fqr_longitudes.append(fqr_longitude)\n",
    "    fqr_distances.append(fqr_distance)\n",
    "    fqr_station_ids.append(fqr_station_id)\n",
    "    fqr_ratings.append(fqr_rating)\n",
    "    \n",
    "# creating new dataframe with selected columns\n",
    "fqr_restaurant_df_selected=pd.DataFrame({\n",
    "    'Name': fqr_names,\n",
    "    'Latitude': fqr_latitudes,\n",
    "    'Longitude': fqr_longitudes,\n",
    "    'Distance': fqr_distances,\n",
    "    'Rating':fqr_ratings,\n",
    "    'Station_id':fqr_station_ids\n",
    "})\n",
    "\n",
    "fqr_restaurant_df_selected\n",
    "%store fqr_restaurant_df_selected"
   ]
  },
  {
   "cell_type": "code",
   "execution_count": 6,
   "metadata": {
    "tags": []
   },
   "outputs": [
    {
     "data": {
      "text/html": [
       "<div>\n",
       "<style scoped>\n",
       "    .dataframe tbody tr th:only-of-type {\n",
       "        vertical-align: middle;\n",
       "    }\n",
       "\n",
       "    .dataframe tbody tr th {\n",
       "        vertical-align: top;\n",
       "    }\n",
       "\n",
       "    .dataframe thead th {\n",
       "        text-align: right;\n",
       "    }\n",
       "</style>\n",
       "<table border=\"1\" class=\"dataframe\">\n",
       "  <thead>\n",
       "    <tr style=\"text-align: right;\">\n",
       "      <th></th>\n",
       "      <th>Name</th>\n",
       "      <th>Latitude</th>\n",
       "      <th>Longitude</th>\n",
       "      <th>Distance</th>\n",
       "      <th>Rating</th>\n",
       "      <th>Station_id</th>\n",
       "    </tr>\n",
       "  </thead>\n",
       "  <tbody>\n",
       "  </tbody>\n",
       "</table>\n",
       "</div>"
      ],
      "text/plain": [
       "Empty DataFrame\n",
       "Columns: [Name, Latitude, Longitude, Distance, Rating, Station_id]\n",
       "Index: []"
      ]
     },
     "execution_count": 6,
     "metadata": {},
     "output_type": "execute_result"
    }
   ],
   "source": [
    "fqr_restaurant_df_selected"
   ]
  },
  {
   "cell_type": "markdown",
   "metadata": {},
   "source": [
    "# Yelp"
   ]
  },
  {
   "cell_type": "markdown",
   "metadata": {},
   "source": [
    "Send a request to Yelp with a small radius (1000m) for all the bike stations in your city of choice. "
   ]
  },
  {
   "cell_type": "code",
   "execution_count": 24,
   "metadata": {},
   "outputs": [
    {
     "name": "stdout",
     "output_type": "stream",
     "text": [
      "43.665269 -79.319796\n",
      "43.67142 -79.445947\n",
      "43.666224 -79.317693\n",
      "43.653236 -79.376716\n",
      "43.663722 -79.380288\n",
      "43.657763 -79.389165\n",
      "43.656729 -79.382736\n",
      "43.664467 -79.414783\n",
      "43.675492 -79.388858\n",
      "43.674991 -79.396273\n",
      "43.671944 -79.387778\n"
     ]
    }
   ],
   "source": [
    "import requests\n",
    "import pandas as pd\n",
    "import os\n",
    "\n",
    "\n",
    "#df_bikes = pd.read_csv(\"city_bikes_ll_2.csv\") // was checking alternative \n",
    "yelp_api_key = os.environ[\"gm-yelp\"]\n",
    "\n",
    "yelp_restaurant_data = [] # restoaurants from yelp\n",
    "i=0\n",
    "# Loop through each bike station in df_bikes\n",
    "   # FOR EACH LOCATION FROM BIKES WILL GET 20 RESTAURANT LOCATIONS\n",
    "for index, station in df_bike.iterrows():\n",
    "    i+=1\n",
    "    latitude = station[\"Latitude\"]\n",
    "    longitude = station[\"Longitude\"]\n",
    "    station_id=station[\"Station_id\"] # will need in order to join together data from city_bikes,yelp and foursquare\n",
    "    print(latitude,longitude)\n",
    "    if i>10:\n",
    "        break\n",
    "    \n",
    "    yelp_url = \"https://api.yelp.com/v3/businesses/search\"\n",
    "    yelp_headers = {\n",
    "            \"Authorization\": f\"Bearer {yelp_api_key}\"\n",
    "        }\n",
    "    yelp_params = {\n",
    "       \"latitude\": latitude,\n",
    "       \"longitude\": longitude,\n",
    "       \"radius\": 1000,\n",
    "       \"term\": \"Restaurants\", \n",
    "        \"limit\":10 # limiting number of bussines results to 10\n",
    "    }\n",
    "    yelp_response = requests.get(yelp_url, headers=yelp_headers, params=yelp_params)\n",
    "    if yelp_response.status_code == 200:\n",
    "        yelp_data = yelp_response.json()\n",
    "        for restaurant_yelp in yelp_data[\"businesses\"]:\n",
    "        # Add the station ID to the restaurant data\n",
    "            restaurant_yelp[\"station_id\"] = station_id\n",
    "        yelp_restaurant_data.extend(yelp_data[\"businesses\"])\n",
    "    else:\n",
    "        print(f\"Failed to fetch Yelp data for station {index}.\")\n"
   ]
  },
  {
   "cell_type": "markdown",
   "metadata": {},
   "source": [
    "Parse through the response to get the POI (such as restaurants, bars, etc) details you want (ratings, name, location, etc)"
   ]
  },
  {
   "cell_type": "code",
   "execution_count": 8,
   "metadata": {},
   "outputs": [
    {
     "name": "stdout",
     "output_type": "stream",
     "text": [
      "\n",
      "Yelp Restaurants:\n",
      "Stored 'yelp_restaurant_df_selected' (DataFrame)\n"
     ]
    }
   ],
   "source": [
    "\n",
    "# Create DataFrames _POI data (yelp restaurants)\n",
    "yelp_restaurant_data_df= pd.DataFrame(yelp_restaurant_data)\n",
    "print(\"\\nYelp Restaurants:\")\n",
    "yelp_restaurant_data_df\n",
    "\n",
    "# Initialize lists to store the extracted data from yelp\n",
    "yelp_names = []\n",
    "yelp_latitudes = []\n",
    "yelp_longitudes = []\n",
    "yelp_distances = []\n",
    "yelp_ratings=[]\n",
    "yelp_station_ids=[]\n",
    "\n",
    "for index in range(len(yelp_restaurant_data_df)):\n",
    "    yelp_name=yelp_restaurant_data_df.iloc[index]['name']\n",
    "    yelp_latitude=yelp_restaurant_data_df.iloc[index]['coordinates']['latitude']\n",
    "    yelp_longitude=yelp_restaurant_data_df.iloc[index]['coordinates']['longitude']   \n",
    "    yelp_distance=yelp_restaurant_data_df.iloc[index]['distance']\n",
    "    yelp_rating=yelp_restaurant_data_df.iloc[index]['rating']\n",
    "    yelp_station_id=yelp_restaurant_data_df.iloc[index]['station_id']\n",
    "    \n",
    "    yelp_names.append(yelp_name)\n",
    "    yelp_latitudes.append(yelp_latitude)\n",
    "    yelp_longitudes.append(yelp_longitude)\n",
    "    yelp_distances.append(yelp_distance)\n",
    "    yelp_ratings.append(yelp_rating)\n",
    "    yelp_station_ids.append(yelp_station_id)\n",
    "    \n",
    "#creating new dataframe with selected/filtered columns\n",
    "yelp_restaurant_df_selected=pd.DataFrame({\n",
    "    'Name': yelp_names,\n",
    "    'Latitude': yelp_latitudes,\n",
    "    'Longitude': yelp_longitudes,\n",
    "    'Distance': yelp_distances,\n",
    "    'Rating':yelp_ratings,\n",
    "    'Station_id':yelp_station_ids\n",
    "})\n",
    "yelp_restaurant_df_selected\n",
    "%store yelp_restaurant_df_selected"
   ]
  },
  {
   "cell_type": "code",
   "execution_count": 9,
   "metadata": {
    "tags": []
   },
   "outputs": [
    {
     "data": {
      "text/html": [
       "<div>\n",
       "<style scoped>\n",
       "    .dataframe tbody tr th:only-of-type {\n",
       "        vertical-align: middle;\n",
       "    }\n",
       "\n",
       "    .dataframe tbody tr th {\n",
       "        vertical-align: top;\n",
       "    }\n",
       "\n",
       "    .dataframe thead th {\n",
       "        text-align: right;\n",
       "    }\n",
       "</style>\n",
       "<table border=\"1\" class=\"dataframe\">\n",
       "  <thead>\n",
       "    <tr style=\"text-align: right;\">\n",
       "      <th></th>\n",
       "      <th>Name</th>\n",
       "      <th>Latitude</th>\n",
       "      <th>Longitude</th>\n",
       "      <th>Distance</th>\n",
       "      <th>Rating</th>\n",
       "      <th>Station_id</th>\n",
       "    </tr>\n",
       "  </thead>\n",
       "  <tbody>\n",
       "  </tbody>\n",
       "</table>\n",
       "</div>"
      ],
      "text/plain": [
       "Empty DataFrame\n",
       "Columns: [Name, Latitude, Longitude, Distance, Rating, Station_id]\n",
       "Index: []"
      ]
     },
     "execution_count": 9,
     "metadata": {},
     "output_type": "execute_result"
    }
   ],
   "source": [
    "yelp_restaurant_df_selected"
   ]
  },
  {
   "cell_type": "code",
   "execution_count": null,
   "metadata": {},
   "outputs": [],
   "source": []
  },
  {
   "cell_type": "markdown",
   "metadata": {},
   "source": [
    "Put your parsed results into a DataFrame"
   ]
  },
  {
   "cell_type": "markdown",
   "metadata": {},
   "source": [
    "# Comparing Results"
   ]
  },
  {
   "cell_type": "markdown",
   "metadata": {},
   "source": [
    "Which API provided you with more complete data? Provide an explanation. "
   ]
  },
  {
   "cell_type": "markdown",
   "metadata": {},
   "source": [
    "Yelp provide more complete and structured data compared with Foursquere. Important parameters such as: alias, is closed, categories (type of restaurant), ratings and reviews, phone numbers exist only in Yelp.\n",
    "Besides Yelp's structure is more orginized and easy to work with.\n",
    "Parsing from Yelp was faster 58secs vs 90 secs with limitations of 100 stations and 10 restaurants\n",
    "Yelp return 994 rows, Foursquare:977 rows."
   ]
  },
  {
   "cell_type": "code",
   "execution_count": null,
   "metadata": {},
   "outputs": [],
   "source": []
  },
  {
   "cell_type": "markdown",
   "metadata": {},
   "source": [
    "Get the top 10 restaurants according to their rating"
   ]
  },
  {
   "cell_type": "code",
   "execution_count": 232,
   "metadata": {},
   "outputs": [
    {
     "data": {
      "text/html": [
       "<div>\n",
       "<style scoped>\n",
       "    .dataframe tbody tr th:only-of-type {\n",
       "        vertical-align: middle;\n",
       "    }\n",
       "\n",
       "    .dataframe tbody tr th {\n",
       "        vertical-align: top;\n",
       "    }\n",
       "\n",
       "    .dataframe thead th {\n",
       "        text-align: right;\n",
       "    }\n",
       "</style>\n",
       "<table border=\"1\" class=\"dataframe\">\n",
       "  <thead>\n",
       "    <tr style=\"text-align: right;\">\n",
       "      <th></th>\n",
       "      <th>Name</th>\n",
       "      <th>Latitude</th>\n",
       "      <th>Longitude</th>\n",
       "      <th>Distance</th>\n",
       "      <th>Rating</th>\n",
       "      <th>Station_id</th>\n",
       "    </tr>\n",
       "  </thead>\n",
       "  <tbody>\n",
       "    <tr>\n",
       "      <th>835</th>\n",
       "      <td>Papamio's</td>\n",
       "      <td>43.671960</td>\n",
       "      <td>-79.419280</td>\n",
       "      <td>241.184451</td>\n",
       "      <td>5.0</td>\n",
       "      <td>37c32c09c594b83701b3b8f6e32db605</td>\n",
       "    </tr>\n",
       "    <tr>\n",
       "      <th>917</th>\n",
       "      <td>Masa Buka</td>\n",
       "      <td>43.686488</td>\n",
       "      <td>-79.347888</td>\n",
       "      <td>723.520019</td>\n",
       "      <td>5.0</td>\n",
       "      <td>a7ca61373064c6581461132f1ae050de</td>\n",
       "    </tr>\n",
       "    <tr>\n",
       "      <th>154</th>\n",
       "      <td>East End Vine</td>\n",
       "      <td>43.666996</td>\n",
       "      <td>-79.344665</td>\n",
       "      <td>55.437143</td>\n",
       "      <td>5.0</td>\n",
       "      <td>784016bbba7f7be920647e7f8ec00251</td>\n",
       "    </tr>\n",
       "    <tr>\n",
       "      <th>904</th>\n",
       "      <td>Papyrus</td>\n",
       "      <td>43.677090</td>\n",
       "      <td>-79.353240</td>\n",
       "      <td>418.200804</td>\n",
       "      <td>5.0</td>\n",
       "      <td>ddba9c631e11fbae48e2be60289f60c2</td>\n",
       "    </tr>\n",
       "    <tr>\n",
       "      <th>827</th>\n",
       "      <td>Morellina’s</td>\n",
       "      <td>43.667250</td>\n",
       "      <td>-79.419999</td>\n",
       "      <td>313.120208</td>\n",
       "      <td>5.0</td>\n",
       "      <td>0abdfc3177000757dcd71bd4c8b479ee</td>\n",
       "    </tr>\n",
       "    <tr>\n",
       "      <th>397</th>\n",
       "      <td>Gurume Sushi</td>\n",
       "      <td>43.661391</td>\n",
       "      <td>-79.380995</td>\n",
       "      <td>174.501781</td>\n",
       "      <td>5.0</td>\n",
       "      <td>b086f4ccca33b1b976b40abe69b78d42</td>\n",
       "    </tr>\n",
       "    <tr>\n",
       "      <th>825</th>\n",
       "      <td>Papamio's</td>\n",
       "      <td>43.671960</td>\n",
       "      <td>-79.419280</td>\n",
       "      <td>249.328387</td>\n",
       "      <td>5.0</td>\n",
       "      <td>0abdfc3177000757dcd71bd4c8b479ee</td>\n",
       "    </tr>\n",
       "    <tr>\n",
       "      <th>824</th>\n",
       "      <td>Maison T</td>\n",
       "      <td>43.670520</td>\n",
       "      <td>-79.426320</td>\n",
       "      <td>445.221433</td>\n",
       "      <td>5.0</td>\n",
       "      <td>0abdfc3177000757dcd71bd4c8b479ee</td>\n",
       "    </tr>\n",
       "    <tr>\n",
       "      <th>43</th>\n",
       "      <td>Som Tum Jinda</td>\n",
       "      <td>43.660199</td>\n",
       "      <td>-79.378211</td>\n",
       "      <td>425.921440</td>\n",
       "      <td>5.0</td>\n",
       "      <td>8f8af40d9388c8a3962559e8681d3db7</td>\n",
       "    </tr>\n",
       "    <tr>\n",
       "      <th>232</th>\n",
       "      <td>Som Tum Jinda</td>\n",
       "      <td>43.660199</td>\n",
       "      <td>-79.378211</td>\n",
       "      <td>517.132788</td>\n",
       "      <td>5.0</td>\n",
       "      <td>e565aef96d6d5fce5279ef6f24b9ce69</td>\n",
       "    </tr>\n",
       "  </tbody>\n",
       "</table>\n",
       "</div>"
      ],
      "text/plain": [
       "              Name   Latitude  Longitude    Distance  Rating  \\\n",
       "835      Papamio's  43.671960 -79.419280  241.184451     5.0   \n",
       "917      Masa Buka  43.686488 -79.347888  723.520019     5.0   \n",
       "154  East End Vine  43.666996 -79.344665   55.437143     5.0   \n",
       "904        Papyrus  43.677090 -79.353240  418.200804     5.0   \n",
       "827    Morellina’s  43.667250 -79.419999  313.120208     5.0   \n",
       "397   Gurume Sushi  43.661391 -79.380995  174.501781     5.0   \n",
       "825      Papamio's  43.671960 -79.419280  249.328387     5.0   \n",
       "824       Maison T  43.670520 -79.426320  445.221433     5.0   \n",
       "43   Som Tum Jinda  43.660199 -79.378211  425.921440     5.0   \n",
       "232  Som Tum Jinda  43.660199 -79.378211  517.132788     5.0   \n",
       "\n",
       "                           Station_id  \n",
       "835  37c32c09c594b83701b3b8f6e32db605  \n",
       "917  a7ca61373064c6581461132f1ae050de  \n",
       "154  784016bbba7f7be920647e7f8ec00251  \n",
       "904  ddba9c631e11fbae48e2be60289f60c2  \n",
       "827  0abdfc3177000757dcd71bd4c8b479ee  \n",
       "397  b086f4ccca33b1b976b40abe69b78d42  \n",
       "825  0abdfc3177000757dcd71bd4c8b479ee  \n",
       "824  0abdfc3177000757dcd71bd4c8b479ee  \n",
       "43   8f8af40d9388c8a3962559e8681d3db7  \n",
       "232  e565aef96d6d5fce5279ef6f24b9ce69  "
      ]
     },
     "execution_count": 232,
     "metadata": {},
     "output_type": "execute_result"
    }
   ],
   "source": [
    "yelp_restaurant_df_top10 = yelp_restaurant_df_selected.sort_values(by='Rating', ascending=False).head(10)\n",
    "\n",
    "yelp_restaurant_df_top10"
   ]
  },
  {
   "cell_type": "markdown",
   "metadata": {
    "tags": []
   },
   "source": [
    "note: 43 and 232 both have the same locations, names and ratings, but different distance. \n",
    "    Need further investigation to understand the reason. Probably one to be dropped.\n",
    "    "
   ]
  },
  {
   "cell_type": "code",
   "execution_count": null,
   "metadata": {},
   "outputs": [],
   "source": []
  }
 ],
 "metadata": {
  "kernelspec": {
   "display_name": "Python 3 (ipykernel)",
   "language": "python",
   "name": "python3"
  },
  "language_info": {
   "codemirror_mode": {
    "name": "ipython",
    "version": 3
   },
   "file_extension": ".py",
   "mimetype": "text/x-python",
   "name": "python",
   "nbconvert_exporter": "python",
   "pygments_lexer": "ipython3",
   "version": "3.11.3"
  }
 },
 "nbformat": 4,
 "nbformat_minor": 4
}
