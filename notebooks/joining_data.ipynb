{
 "cells": [
  {
   "cell_type": "markdown",
   "metadata": {},
   "source": [
    "Join the data from Part 1 with the data from Part 2 to create a new dataframe."
   ]
  },
  {
   "cell_type": "code",
   "execution_count": 5,
   "metadata": {
    "tags": []
   },
   "outputs": [],
   "source": [
    "import pandas as pd\n",
    "# calling dataframes created during the previous tasks \n",
    "%store -r yelp_restaurant_df_selected\n",
    "%store -r fqr_restaurant_df_selected\n",
    "%store -r df_bike"
   ]
  },
  {
   "cell_type": "code",
   "execution_count": 6,
   "metadata": {
    "tags": []
   },
   "outputs": [
    {
     "data": {
      "text/html": [
       "<div>\n",
       "<style scoped>\n",
       "    .dataframe tbody tr th:only-of-type {\n",
       "        vertical-align: middle;\n",
       "    }\n",
       "\n",
       "    .dataframe tbody tr th {\n",
       "        vertical-align: top;\n",
       "    }\n",
       "\n",
       "    .dataframe thead th {\n",
       "        text-align: right;\n",
       "    }\n",
       "</style>\n",
       "<table border=\"1\" class=\"dataframe\">\n",
       "  <thead>\n",
       "    <tr style=\"text-align: right;\">\n",
       "      <th></th>\n",
       "      <th>Name</th>\n",
       "      <th>Latitude</th>\n",
       "      <th>Longitude</th>\n",
       "      <th>Distance</th>\n",
       "      <th>Rating</th>\n",
       "      <th>Station_id</th>\n",
       "    </tr>\n",
       "  </thead>\n",
       "  <tbody>\n",
       "  </tbody>\n",
       "</table>\n",
       "</div>"
      ],
      "text/plain": [
       "Empty DataFrame\n",
       "Columns: [Name, Latitude, Longitude, Distance, Rating, Station_id]\n",
       "Index: []"
      ]
     },
     "execution_count": 6,
     "metadata": {},
     "output_type": "execute_result"
    }
   ],
   "source": [
    "yelp_restaurant_df_selected.head() # need to see data structure to think "
   ]
  },
  {
   "cell_type": "code",
   "execution_count": 7,
   "metadata": {
    "tags": []
   },
   "outputs": [
    {
     "data": {
      "text/html": [
       "<div>\n",
       "<style scoped>\n",
       "    .dataframe tbody tr th:only-of-type {\n",
       "        vertical-align: middle;\n",
       "    }\n",
       "\n",
       "    .dataframe tbody tr th {\n",
       "        vertical-align: top;\n",
       "    }\n",
       "\n",
       "    .dataframe thead th {\n",
       "        text-align: right;\n",
       "    }\n",
       "</style>\n",
       "<table border=\"1\" class=\"dataframe\">\n",
       "  <thead>\n",
       "    <tr style=\"text-align: right;\">\n",
       "      <th></th>\n",
       "      <th>Name</th>\n",
       "      <th>Latitude</th>\n",
       "      <th>Longitude</th>\n",
       "      <th>Distance</th>\n",
       "      <th>Rating</th>\n",
       "      <th>Station_id</th>\n",
       "    </tr>\n",
       "  </thead>\n",
       "  <tbody>\n",
       "    <tr>\n",
       "      <th>0</th>\n",
       "      <td>Chick-N-Joy</td>\n",
       "      <td>43.665121</td>\n",
       "      <td>-79.321347</td>\n",
       "      <td>129</td>\n",
       "      <td>0</td>\n",
       "      <td>fb337bbed72e2be090071e199899b2be</td>\n",
       "    </tr>\n",
       "    <tr>\n",
       "      <th>1</th>\n",
       "      <td>McDonald's</td>\n",
       "      <td>43.665065</td>\n",
       "      <td>-79.319000</td>\n",
       "      <td>62</td>\n",
       "      <td>0</td>\n",
       "      <td>fb337bbed72e2be090071e199899b2be</td>\n",
       "    </tr>\n",
       "    <tr>\n",
       "      <th>2</th>\n",
       "      <td>O Sushi</td>\n",
       "      <td>43.666623</td>\n",
       "      <td>-79.316861</td>\n",
       "      <td>300</td>\n",
       "      <td>0</td>\n",
       "      <td>fb337bbed72e2be090071e199899b2be</td>\n",
       "    </tr>\n",
       "    <tr>\n",
       "      <th>3</th>\n",
       "      <td>Null</td>\n",
       "      <td>43.666709</td>\n",
       "      <td>-79.315659</td>\n",
       "      <td>377</td>\n",
       "      <td>0</td>\n",
       "      <td>fb337bbed72e2be090071e199899b2be</td>\n",
       "    </tr>\n",
       "    <tr>\n",
       "      <th>4</th>\n",
       "      <td>Tulip Restaurant</td>\n",
       "      <td>43.666394</td>\n",
       "      <td>-79.316918</td>\n",
       "      <td>265</td>\n",
       "      <td>0</td>\n",
       "      <td>fb337bbed72e2be090071e199899b2be</td>\n",
       "    </tr>\n",
       "  </tbody>\n",
       "</table>\n",
       "</div>"
      ],
      "text/plain": [
       "               Name   Latitude  Longitude  Distance  Rating  \\\n",
       "0       Chick-N-Joy  43.665121 -79.321347       129       0   \n",
       "1        McDonald's  43.665065 -79.319000        62       0   \n",
       "2           O Sushi  43.666623 -79.316861       300       0   \n",
       "3              Null  43.666709 -79.315659       377       0   \n",
       "4  Tulip Restaurant  43.666394 -79.316918       265       0   \n",
       "\n",
       "                         Station_id  \n",
       "0  fb337bbed72e2be090071e199899b2be  \n",
       "1  fb337bbed72e2be090071e199899b2be  \n",
       "2  fb337bbed72e2be090071e199899b2be  \n",
       "3  fb337bbed72e2be090071e199899b2be  \n",
       "4  fb337bbed72e2be090071e199899b2be  "
      ]
     },
     "execution_count": 7,
     "metadata": {},
     "output_type": "execute_result"
    }
   ],
   "source": [
    "fqr_restaurant_df_selected.head() # need to see data structure to think "
   ]
  },
  {
   "cell_type": "code",
   "execution_count": 8,
   "metadata": {
    "tags": []
   },
   "outputs": [
    {
     "data": {
      "text/html": [
       "<div>\n",
       "<style scoped>\n",
       "    .dataframe tbody tr th:only-of-type {\n",
       "        vertical-align: middle;\n",
       "    }\n",
       "\n",
       "    .dataframe tbody tr th {\n",
       "        vertical-align: top;\n",
       "    }\n",
       "\n",
       "    .dataframe thead th {\n",
       "        text-align: right;\n",
       "    }\n",
       "</style>\n",
       "<table border=\"1\" class=\"dataframe\">\n",
       "  <thead>\n",
       "    <tr style=\"text-align: right;\">\n",
       "      <th></th>\n",
       "      <th>Station_id</th>\n",
       "      <th>Name</th>\n",
       "      <th>Latitude</th>\n",
       "      <th>Longitude</th>\n",
       "      <th>Free Bikes</th>\n",
       "    </tr>\n",
       "  </thead>\n",
       "  <tbody>\n",
       "    <tr>\n",
       "      <th>0</th>\n",
       "      <td>fb337bbed72e2be090071e199899b2be</td>\n",
       "      <td>Queen St E / Woodward Ave</td>\n",
       "      <td>43.665269</td>\n",
       "      <td>-79.319796</td>\n",
       "      <td>17</td>\n",
       "    </tr>\n",
       "    <tr>\n",
       "      <th>1</th>\n",
       "      <td>4ff88d5880e71aa40d34cfe5d09b0ca7</td>\n",
       "      <td>Primrose Ave / Davenport Rd</td>\n",
       "      <td>43.671420</td>\n",
       "      <td>-79.445947</td>\n",
       "      <td>2</td>\n",
       "    </tr>\n",
       "    <tr>\n",
       "      <th>2</th>\n",
       "      <td>a09c67c0b419654d907c9134b108e328</td>\n",
       "      <td>Queen St. E / Rhodes Ave.</td>\n",
       "      <td>43.666224</td>\n",
       "      <td>-79.317693</td>\n",
       "      <td>21</td>\n",
       "    </tr>\n",
       "    <tr>\n",
       "      <th>3</th>\n",
       "      <td>d6a9daee68070a8b106cfb598d81308c</td>\n",
       "      <td>Bond St / Queen St E</td>\n",
       "      <td>43.653236</td>\n",
       "      <td>-79.376716</td>\n",
       "      <td>5</td>\n",
       "    </tr>\n",
       "    <tr>\n",
       "      <th>4</th>\n",
       "      <td>8f8af40d9388c8a3962559e8681d3db7</td>\n",
       "      <td>Church St / Alexander St</td>\n",
       "      <td>43.663722</td>\n",
       "      <td>-79.380288</td>\n",
       "      <td>9</td>\n",
       "    </tr>\n",
       "  </tbody>\n",
       "</table>\n",
       "</div>"
      ],
      "text/plain": [
       "                         Station_id                         Name   Latitude  \\\n",
       "0  fb337bbed72e2be090071e199899b2be    Queen St E / Woodward Ave  43.665269   \n",
       "1  4ff88d5880e71aa40d34cfe5d09b0ca7  Primrose Ave / Davenport Rd  43.671420   \n",
       "2  a09c67c0b419654d907c9134b108e328    Queen St. E / Rhodes Ave.  43.666224   \n",
       "3  d6a9daee68070a8b106cfb598d81308c         Bond St / Queen St E  43.653236   \n",
       "4  8f8af40d9388c8a3962559e8681d3db7     Church St / Alexander St  43.663722   \n",
       "\n",
       "   Longitude  Free Bikes  \n",
       "0 -79.319796          17  \n",
       "1 -79.445947           2  \n",
       "2 -79.317693          21  \n",
       "3 -79.376716           5  \n",
       "4 -79.380288           9  "
      ]
     },
     "execution_count": 8,
     "metadata": {},
     "output_type": "execute_result"
    }
   ],
   "source": [
    "df_bike.head() # need to see data structure to think "
   ]
  },
  {
   "cell_type": "code",
   "execution_count": 9,
   "metadata": {
    "tags": []
   },
   "outputs": [
    {
     "name": "stdout",
     "output_type": "stream",
     "text": [
      "Stored 'merged_df' (DataFrame)\n"
     ]
    }
   ],
   "source": [
    "import pandas as pd\n",
    "#combining (stacking) yelp and foursquare dataframes. Previously modified column types and names to get the same frame. \n",
    "#Add \"rating=0\" to foursquare to fit the structure\n",
    "\n",
    "combined_df = pd.concat([yelp_restaurant_df_selected, fqr_restaurant_df_selected], ignore_index=True)\n",
    "# Drop rows with the same longitude and latitude\n",
    "combined_df.drop_duplicates(subset=['Longitude', 'Latitude'], inplace=True)\n",
    "\n",
    "# joining combined_df with df_bikes to have one new dataframe\n",
    "merged_df = pd.merge(combined_df, df_bike, on='Station_id')\n",
    "merged_df = merged_df.sort_values(by='Station_id')\n",
    "merged_df\n",
    "merged_df.to_csv('MergedDataframe.csv',index=False)\n",
    "%store merged_df"
   ]
  },
  {
   "cell_type": "markdown",
   "metadata": {},
   "source": [
    "Provide a visualization that you used as part of your EDA process. Explain the initial pattern or relationship you discoved through this visualization. "
   ]
  },
  {
   "cell_type": "code",
   "execution_count": 10,
   "metadata": {
    "tags": []
   },
   "outputs": [
    {
     "data": {
      "image/png": "[encoded data removed]",
      "text/plain": [
       "<Figure size 640x480 with 1 Axes>"
      ]
     },
     "metadata": {},
     "output_type": "display_data"
    },
    {
     "data": {
      "image/png": "[encoded data removed]",
      "text/plain": [
       "<Figure size 640x480 with 1 Axes>"
      ]
     },
     "metadata": {},
     "output_type": "display_data"
    }
   ],
   "source": [
    "import pandas as pd\n",
    "import matplotlib.pyplot as plt\n",
    "\n",
    "\n",
    "merget_df_no_zero_rating=merged_df[(merged_df['Rating'] != 0)] # dropping 0 values from Rating to reduce impact\n",
    "\n",
    "# plot of Rating count VS Distance (bar chart)\n",
    "ratings_counts = merget_df_no_zero_rating['Rating'].value_counts()\n",
    "plt.bar(ratings_counts.index,ratings_counts.values)\n",
    "plt.title('Rating counts bar')\n",
    "plt.xlabel('Rating')\n",
    "plt.ylabel('Counts')\n",
    "plt.show()\n",
    "\n",
    "# plot of Rating count VS Distance (scatter chart)\n",
    "merget_df_no_zero_rating.plot.scatter(x='Rating', y='Distance', c='blue', marker='o', s=50)\n",
    "plt.title('Rating vs. Distance scatter')\n",
    "plt.xlabel('Rating')\n",
    "plt.ylabel('Distance')\n",
    "plt.grid(True)\n",
    "plt.show()\n"
   ]
  },
  {
   "cell_type": "markdown",
   "metadata": {},
   "source": [
    "**Can make a guess that restaurants' ratings are higher if there are bike stations nearby.**\n",
    "to prove it should compare restaurants ratings in general VS with bikes to see if there is any impact. Can't do it with data on hand."
   ]
  },
  {
   "cell_type": "code",
   "execution_count": 11,
   "metadata": {
    "tags": []
   },
   "outputs": [
    {
     "data": {
      "image/png": "[encoded data removed]",
      "text/plain": [
       "<Figure size 640x480 with 1 Axes>"
      ]
     },
     "metadata": {},
     "output_type": "display_data"
    }
   ],
   "source": [
    "import pandas as pd\n",
    "import matplotlib.pyplot as plt\n",
    "\n",
    "# want to create overlapped scatter plots - one for bike stations another for restaurants arounf\n",
    "\n",
    "plt.figure()\n",
    "#scatter for bike stations\n",
    "plt.scatter(merged_df['Latitude_y'], merged_df['Longitude_y'], c='blue', marker='o', s=30, label='bike stations')\n",
    "\n",
    "#scatter for restaurants around\n",
    "plt.scatter(merged_df['Latitude_x'], merged_df['Longitude_x'], c='red', marker='x', s=3, label='restaurants near stations')\n",
    "\n",
    "plt.xlabel('Latitude')\n",
    "plt.ylabel('Longitude')\n",
    "plt.title('Scatter Plot of Latitude and Longitude')\n",
    "plt.legend()\n",
    "plt.show()"
   ]
  },
  {
   "cell_type": "markdown",
   "metadata": {
    "tags": []
   },
   "source": [
    "**Was looking for bike stations without or with less restaurants but looks like there are enough restaurants around the bike stations.**"
   ]
  },
  {
   "cell_type": "markdown",
   "metadata": {},
   "source": [
    "# Database"
   ]
  },
  {
   "cell_type": "markdown",
   "metadata": {},
   "source": [
    "Put all your results in an SQLite3 database (remember, SQLite stores its databases as files in your local machine - make sure to create your database in your project's data/ directory!)"
   ]
  },
  {
   "cell_type": "code",
   "execution_count": 12,
   "metadata": {
    "tags": []
   },
   "outputs": [],
   "source": [
    "#create a function with \"DataFrame\" and \"Database name\" inputs and save Dataframe as SQLite database\n",
    "import sqlite3\n",
    "\n",
    "def save_to_database(merged_df, database_name):\n",
    "    # Create a connection to the database\n",
    "    conn = sqlite3.connect(database_name)\n",
    "\n",
    "    # Save the DataFrame to the database\n",
    "    merged_df.to_sql('combined_data', conn, index=False, if_exists='replace')\n",
    "\n",
    "    conn.close()"
   ]
  },
  {
   "cell_type": "code",
   "execution_count": 13,
   "metadata": {
    "tags": []
   },
   "outputs": [],
   "source": [
    "save_to_database(merged_df, 'Restaurants_near_bike_stations.db')"
   ]
  },
  {
   "cell_type": "code",
   "execution_count": 14,
   "metadata": {
    "tags": []
   },
   "outputs": [],
   "source": [
    "#import sqlite3\n",
    "\n",
    "# Create a connection to the database\n",
    "#conn = sqlite3.connect('Restaurants_near_bike_stations.db')\n",
    "\n",
    "# Save the DataFrame to the database\n",
    "#merged_df.to_sql('combined_data', conn, index=False, if_exists='replace')\n",
    "\n",
    "# Close the connection\n",
    "#conn.close()"
   ]
  },
  {
   "cell_type": "markdown",
   "metadata": {},
   "source": [
    "Look at the data before and after the join to validate your data."
   ]
  },
  {
   "cell_type": "code",
   "execution_count": null,
   "metadata": {},
   "outputs": [],
   "source": []
  },
  {
   "cell_type": "code",
   "execution_count": 119,
   "metadata": {
    "tags": []
   },
   "outputs": [
    {
     "name": "stdout",
     "output_type": "stream",
     "text": [
      "Number of rows in fqr_restaurant_df_selected: 977\n",
      "Number of rows in yelp_restaurant_df_selected: 994\n",
      "Number of rows in df_bike: 674\n",
      "Number of rows in merged_df: 1971\n",
      "Difference between fqr&yelp rows and merged_df:\n"
     ]
    },
    {
     "data": {
      "text/plain": [
       "(None, 0)"
      ]
     },
     "execution_count": 119,
     "metadata": {},
     "output_type": "execute_result"
    }
   ],
   "source": [
    "\n",
    "# Check number of rows before and after the join\n",
    "print(\"Number of rows in fqr_restaurant_df_selected:\", len(fqr_restaurant_df_selected))\n",
    "print(\"Number of rows in yelp_restaurant_df_selected:\", len(yelp_restaurant_df_selected))\n",
    "print(\"Number of rows in df_bike:\", len(df_bike))\n",
    "print(\"Number of rows in merged_df:\", len(merged_df))\n",
    "print(\"Difference between fqr&yelp rows and merged_df:\"),(len(fqr_restaurant_df_selected)+len(yelp_restaurant_df_selected)-len(merged_df))\n",
    "\n"
   ]
  }
 ],
 "metadata": {
  "kernelspec": {
   "display_name": "Python 3 (ipykernel)",
   "language": "python",
   "name": "python3"
  },
  "language_info": {
   "codemirror_mode": {
    "name": "ipython",
    "version": 3
   },
   "file_extension": ".py",
   "mimetype": "text/x-python",
   "name": "python",
   "nbconvert_exporter": "python",
   "pygments_lexer": "ipython3",
   "version": "3.11.3"
  }
 },
 "nbformat": 4,
 "nbformat_minor": 4
}
