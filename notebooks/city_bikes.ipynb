{
 "cells": [
  {
   "cell_type": "markdown",
   "metadata": {},
   "source": [
    "# CityBikes"
   ]
  },
  {
   "cell_type": "markdown",
   "metadata": {},
   "source": [
    "Send a request to CityBikes for the city of your choice. "
   ]
  },
  {
   "cell_type": "code",
   "execution_count": 3,
   "metadata": {
    "tags": []
   },
   "outputs": [],
   "source": [
    "import pandas as pd\n",
    "import requests\n",
    "# \n",
    "#url = \"http://api.citybik.es/v2/networks/velobike-moscow\" /API endpoint URL (velobike-moscow) - didn't work for me\n",
    "url=\"http://api.citybik.es/v2/networks/bixi-toronto\" # /API endpoint URL (bixi-toronto)\n",
    "response = requests.get(url)\n",
    "if response.status_code == 200: # Check if the request was successful\n",
    "    data_dict = response.json() # Parse JSON data into a Python dictionary\n",
    "    stations = data_dict[\"network\"][\"stations\"] # Extract the list of stations from the dictionary\n",
    "    df = pd.DataFrame(stations) # Create a DataFrame\n",
    "else:\n",
    "    print(\"Failed to fetch data from the API.\")\n"
   ]
  },
  {
   "cell_type": "markdown",
   "metadata": {},
   "source": [
    "Parse through the response to get the details you want for the bike stations in that city (latitude, longitude, number of bikes). "
   ]
  },
  {
   "cell_type": "code",
   "execution_count": 4,
   "metadata": {
    "tags": []
   },
   "outputs": [],
   "source": [
    "bike_stations=[] # creating empty bike_stations list where will collect requested info\n",
    "for station in stations: # starting for loop to go through all rows in stations by filtering requested fields \n",
    "    station_id=station['id']\n",
    "    name=station['name']\n",
    "    latitude=station['latitude']\n",
    "    longitude=station['longitude']\n",
    "    number_of_bikes=station['free_bikes']\n",
    "    # append returned values to bike_station list. \n",
    "    bike_stations.append({\"Station_id\":station_id,\n",
    "                          \"Name\":name,\n",
    "                          \"Latitude\":latitude,\n",
    "                          \"Longitude\":longitude,\n",
    "                          \"Free Bikes\": number_of_bikes\n",
    "                          \n",
    "                         })"
   ]
  },
  {
   "cell_type": "markdown",
   "metadata": {},
   "source": [
    "Put your parsed results into a DataFrame."
   ]
  },
  {
   "cell_type": "code",
   "execution_count": 5,
   "metadata": {
    "tags": []
   },
   "outputs": [
    {
     "name": "stdout",
     "output_type": "stream",
     "text": [
      "Stored 'df_bike' (DataFrame)\n"
     ]
    }
   ],
   "source": [
    "# create a dafaframe from bike_stations list\n",
    "df_bike=pd.DataFrame(bike_stations)\n",
    "# Store the DataFrame in the IPython store\n",
    "%store df_bike\n",
    "#df.to_csv('city_bikes_ll_2.csv',index=False) // was using/testing \"csv\" file as an alterantive source for data"
   ]
  },
  {
   "cell_type": "code",
   "execution_count": 6,
   "metadata": {
    "tags": []
   },
   "outputs": [
    {
     "data": {
      "text/html": [
       "<div>\n",
       "<style scoped>\n",
       "    .dataframe tbody tr th:only-of-type {\n",
       "        vertical-align: middle;\n",
       "    }\n",
       "\n",
       "    .dataframe tbody tr th {\n",
       "        vertical-align: top;\n",
       "    }\n",
       "\n",
       "    .dataframe thead th {\n",
       "        text-align: right;\n",
       "    }\n",
       "</style>\n",
       "<table border=\"1\" class=\"dataframe\">\n",
       "  <thead>\n",
       "    <tr style=\"text-align: right;\">\n",
       "      <th></th>\n",
       "      <th>Station_id</th>\n",
       "      <th>Name</th>\n",
       "      <th>Latitude</th>\n",
       "      <th>Longitude</th>\n",
       "      <th>Free Bikes</th>\n",
       "    </tr>\n",
       "  </thead>\n",
       "  <tbody>\n",
       "    <tr>\n",
       "      <th>0</th>\n",
       "      <td>fb337bbed72e2be090071e199899b2be</td>\n",
       "      <td>Queen St E / Woodward Ave</td>\n",
       "      <td>43.665269</td>\n",
       "      <td>-79.319796</td>\n",
       "      <td>18</td>\n",
       "    </tr>\n",
       "    <tr>\n",
       "      <th>1</th>\n",
       "      <td>4ff88d5880e71aa40d34cfe5d09b0ca7</td>\n",
       "      <td>Primrose Ave / Davenport Rd</td>\n",
       "      <td>43.671420</td>\n",
       "      <td>-79.445947</td>\n",
       "      <td>2</td>\n",
       "    </tr>\n",
       "    <tr>\n",
       "      <th>2</th>\n",
       "      <td>a09c67c0b419654d907c9134b108e328</td>\n",
       "      <td>Queen St. E / Rhodes Ave.</td>\n",
       "      <td>43.666224</td>\n",
       "      <td>-79.317693</td>\n",
       "      <td>21</td>\n",
       "    </tr>\n",
       "    <tr>\n",
       "      <th>3</th>\n",
       "      <td>d6a9daee68070a8b106cfb598d81308c</td>\n",
       "      <td>Bond St / Queen St E</td>\n",
       "      <td>43.653236</td>\n",
       "      <td>-79.376716</td>\n",
       "      <td>3</td>\n",
       "    </tr>\n",
       "    <tr>\n",
       "      <th>4</th>\n",
       "      <td>8f8af40d9388c8a3962559e8681d3db7</td>\n",
       "      <td>Church St / Alexander St</td>\n",
       "      <td>43.663722</td>\n",
       "      <td>-79.380288</td>\n",
       "      <td>13</td>\n",
       "    </tr>\n",
       "    <tr>\n",
       "      <th>...</th>\n",
       "      <td>...</td>\n",
       "      <td>...</td>\n",
       "      <td>...</td>\n",
       "      <td>...</td>\n",
       "      <td>...</td>\n",
       "    </tr>\n",
       "    <tr>\n",
       "      <th>676</th>\n",
       "      <td>44d245c021bcfb69fed5e4b088d60dd5</td>\n",
       "      <td>Eastgate Ct / Pharmacy Ave</td>\n",
       "      <td>43.711044</td>\n",
       "      <td>-79.291273</td>\n",
       "      <td>7</td>\n",
       "    </tr>\n",
       "    <tr>\n",
       "      <th>677</th>\n",
       "      <td>84e8e3827807916c9c3ac9b60404346d</td>\n",
       "      <td>Firvalley Ct / Warden Ave</td>\n",
       "      <td>43.703211</td>\n",
       "      <td>-79.278715</td>\n",
       "      <td>11</td>\n",
       "    </tr>\n",
       "    <tr>\n",
       "      <th>678</th>\n",
       "      <td>84dc7d9185e88915466d12f23fe07753</td>\n",
       "      <td>Midland Ave/ Kingston Rd</td>\n",
       "      <td>43.712858</td>\n",
       "      <td>-79.248709</td>\n",
       "      <td>1</td>\n",
       "    </tr>\n",
       "    <tr>\n",
       "      <th>679</th>\n",
       "      <td>6228f42d28032bf18c0a7f9411df5fa0</td>\n",
       "      <td>Bellamy Rd S / Kingston Rd</td>\n",
       "      <td>43.732328</td>\n",
       "      <td>-79.224966</td>\n",
       "      <td>0</td>\n",
       "    </tr>\n",
       "    <tr>\n",
       "      <th>680</th>\n",
       "      <td>ec3b9fd9e808fc3e1819e802f02ea442</td>\n",
       "      <td>Avenue Rd / Cumberland St</td>\n",
       "      <td>43.669822</td>\n",
       "      <td>-79.394446</td>\n",
       "      <td>10</td>\n",
       "    </tr>\n",
       "  </tbody>\n",
       "</table>\n",
       "<p>681 rows × 5 columns</p>\n",
       "</div>"
      ],
      "text/plain": [
       "                           Station_id                         Name   Latitude  \\\n",
       "0    fb337bbed72e2be090071e199899b2be    Queen St E / Woodward Ave  43.665269   \n",
       "1    4ff88d5880e71aa40d34cfe5d09b0ca7  Primrose Ave / Davenport Rd  43.671420   \n",
       "2    a09c67c0b419654d907c9134b108e328    Queen St. E / Rhodes Ave.  43.666224   \n",
       "3    d6a9daee68070a8b106cfb598d81308c         Bond St / Queen St E  43.653236   \n",
       "4    8f8af40d9388c8a3962559e8681d3db7     Church St / Alexander St  43.663722   \n",
       "..                                ...                          ...        ...   \n",
       "676  44d245c021bcfb69fed5e4b088d60dd5  Eastgate Ct / Pharmacy Ave   43.711044   \n",
       "677  84e8e3827807916c9c3ac9b60404346d    Firvalley Ct / Warden Ave  43.703211   \n",
       "678  84dc7d9185e88915466d12f23fe07753     Midland Ave/ Kingston Rd  43.712858   \n",
       "679  6228f42d28032bf18c0a7f9411df5fa0   Bellamy Rd S / Kingston Rd  43.732328   \n",
       "680  ec3b9fd9e808fc3e1819e802f02ea442   Avenue Rd / Cumberland St   43.669822   \n",
       "\n",
       "     Longitude  Free Bikes  \n",
       "0   -79.319796          18  \n",
       "1   -79.445947           2  \n",
       "2   -79.317693          21  \n",
       "3   -79.376716           3  \n",
       "4   -79.380288          13  \n",
       "..         ...         ...  \n",
       "676 -79.291273           7  \n",
       "677 -79.278715          11  \n",
       "678 -79.248709           1  \n",
       "679 -79.224966           0  \n",
       "680 -79.394446          10  \n",
       "\n",
       "[681 rows x 5 columns]"
      ]
     },
     "execution_count": 6,
     "metadata": {},
     "output_type": "execute_result"
    }
   ],
   "source": [
    "df_bike # testing dataframe"
   ]
  },
  {
   "cell_type": "code",
   "execution_count": 11,
   "metadata": {},
   "outputs": [
    {
     "name": "stdout",
     "output_type": "stream",
     "text": [
      "Number of missing values updated with the median: None\n",
      "Removed duplicates: 0\n",
      "None converted\n",
      "Number of changes made during string cleaning: 0\n"
     ]
    }
   ],
   "source": [
    "# data audit and cleaning (same process can be used for yelp and frq)\n",
    "\n",
    "# Using median to fill missing values\n",
    "median_free_bikes = df_bike['Free Bikes'].median()\n",
    "updated_values_count = df_bike['Free Bikes'].fillna(median_free_bikes, inplace=True)\n",
    "print(f\"Number of missing values updated with the median: {updated_values_count}\")\n",
    "\n",
    "# Removing Duplicates\n",
    "duplicates_before = len(df_bike)\n",
    "df_bike.drop_duplicates(inplace=True)\n",
    "duplicates_after = len(df_bike)\n",
    "print (\"Removed duplicates:\" ,(duplicates_before - duplicates_after))\n",
    "\n",
    "# Converting 'Free Bikes' data type to integer\n",
    "old_data_type = df_bike['Free Bikes'].dtype\n",
    "df_bike['Free Bikes'] = df_bike['Free Bikes'].astype(int)\n",
    "new_data_type = df_bike['Free Bikes'].dtype\n",
    "updates_count = \"converted\" if old_data_type != new_data_type else \"None converted\"\n",
    "print(updates_count)\n",
    "\n",
    "# Cleaning extra spaces in 'Name' column\n",
    "original_names = df_bike['Name']\n",
    "df_bike['Name'] = df_bike['Name'].str.strip()\n",
    "changes_count = (original_names != df_bike['Name']).sum()\n",
    "print(f\"Number of changes made during string cleaning: {changes_count}\")\n"
   ]
  },
  {
   "cell_type": "code",
   "execution_count": null,
   "metadata": {},
   "outputs": [],
   "source": []
  }
 ],
 "metadata": {
  "kernelspec": {
   "display_name": "Python 3 (ipykernel)",
   "language": "python",
   "name": "python3"
  },
  "language_info": {
   "codemirror_mode": {
    "name": "ipython",
    "version": 3
   },
   "file_extension": ".py",
   "mimetype": "text/x-python",
   "name": "python",
   "nbconvert_exporter": "python",
   "pygments_lexer": "ipython3",
   "version": "3.11.3"
  }
 },
 "nbformat": 4,
 "nbformat_minor": 4
}
