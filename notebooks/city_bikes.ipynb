{
 "cells": [
  {
   "cell_type": "markdown",
   "metadata": {},
   "source": [
    "# CityBikes"
   ]
  },
  {
   "cell_type": "markdown",
   "metadata": {},
   "source": [
    "Send a request to CityBikes for the city of your choice. "
   ]
  },
  {
   "cell_type": "code",
   "execution_count": 34,
   "metadata": {
    "tags": []
   },
   "outputs": [],
   "source": [
    "import pandas as pd\n",
    "import requests\n",
    "# \n",
    "#url = \"http://api.citybik.es/v2/networks/velobike-moscow\" /API endpoint URL (velobike-moscow) - didn't work for me\n",
    "url=\"http://api.citybik.es/v2/networks/bixi-toronto\" # /API endpoint URL (bixi-toronto)\n",
    "response = requests.get(url)\n",
    "if response.status_code == 200: # Check if the request was successful\n",
    "    data_dict = response.json() # Parse JSON data into a Python dictionary\n",
    "    stations = data_dict[\"network\"][\"stations\"] # Extract the list of stations from the dictionary\n",
    "    df = pd.DataFrame(stations) # Create a DataFrame\n",
    "else:\n",
    "    print(\"Failed to fetch data from the API.\")\n"
   ]
  },
  {
   "cell_type": "markdown",
   "metadata": {},
   "source": [
    "Parse through the response to get the details you want for the bike stations in that city (latitude, longitude, number of bikes). "
   ]
  },
  {
   "cell_type": "code",
   "execution_count": 35,
   "metadata": {
    "tags": []
   },
   "outputs": [],
   "source": [
    "bike_stations=[] # creating empty bike_stations list where will collect requested info\n",
    "for station in stations: # starting for loop to go through all rows in stations by filtering requested fields \n",
    "    station_id=station['id']\n",
    "    name=station['name']\n",
    "    latitude=station['latitude']\n",
    "    longitude=station['longitude']\n",
    "    number_of_bikes=station['free_bikes']\n",
    "    # append returned values to bike_station list. \n",
    "    bike_stations.append({\"Station_id\":station_id,\n",
    "                          \"Name\":name,\n",
    "                          \"Latitude\":latitude,\n",
    "                          \"Longitude\":longitude,\n",
    "                          \"Free Bikes\": number_of_bikes\n",
    "                          \n",
    "                         })"
   ]
  },
  {
   "cell_type": "markdown",
   "metadata": {},
   "source": [
    "Put your parsed results into a DataFrame."
   ]
  },
  {
   "cell_type": "code",
   "execution_count": 36,
   "metadata": {
    "tags": []
   },
   "outputs": [
    {
     "name": "stdout",
     "output_type": "stream",
     "text": [
      "Stored 'df_bike' (DataFrame)\n"
     ]
    }
   ],
   "source": [
    "# create a dafaframe from bike_stations list\n",
    "df_bike=pd.DataFrame(bike_stations)\n",
    "# Store the DataFrame in the IPython store\n",
    "%store df_bike\n",
    "#df.to_csv('city_bikes_ll_2.csv',index=False) // was using/testing \"csv\" file as an alterantive source for data"
   ]
  },
  {
   "cell_type": "code",
   "execution_count": 39,
   "metadata": {
    "tags": []
   },
   "outputs": [
    {
     "data": {
      "text/html": [
       "<div>\n",
       "<style scoped>\n",
       "    .dataframe tbody tr th:only-of-type {\n",
       "        vertical-align: middle;\n",
       "    }\n",
       "\n",
       "    .dataframe tbody tr th {\n",
       "        vertical-align: top;\n",
       "    }\n",
       "\n",
       "    .dataframe thead th {\n",
       "        text-align: right;\n",
       "    }\n",
       "</style>\n",
       "<table border=\"1\" class=\"dataframe\">\n",
       "  <thead>\n",
       "    <tr style=\"text-align: right;\">\n",
       "      <th></th>\n",
       "      <th>Station_id</th>\n",
       "      <th>Name</th>\n",
       "      <th>Latitude</th>\n",
       "      <th>Longitude</th>\n",
       "      <th>Free Bikes</th>\n",
       "    </tr>\n",
       "  </thead>\n",
       "  <tbody>\n",
       "    <tr>\n",
       "      <th>0</th>\n",
       "      <td>fb337bbed72e2be090071e199899b2be</td>\n",
       "      <td>Queen St E / Woodward Ave</td>\n",
       "      <td>43.665269</td>\n",
       "      <td>-79.319796</td>\n",
       "      <td>16</td>\n",
       "    </tr>\n",
       "    <tr>\n",
       "      <th>1</th>\n",
       "      <td>4ff88d5880e71aa40d34cfe5d09b0ca7</td>\n",
       "      <td>Primrose Ave / Davenport Rd</td>\n",
       "      <td>43.671420</td>\n",
       "      <td>-79.445947</td>\n",
       "      <td>1</td>\n",
       "    </tr>\n",
       "    <tr>\n",
       "      <th>2</th>\n",
       "      <td>a09c67c0b419654d907c9134b108e328</td>\n",
       "      <td>Queen St. E / Rhodes Ave.</td>\n",
       "      <td>43.666224</td>\n",
       "      <td>-79.317693</td>\n",
       "      <td>20</td>\n",
       "    </tr>\n",
       "    <tr>\n",
       "      <th>3</th>\n",
       "      <td>d6a9daee68070a8b106cfb598d81308c</td>\n",
       "      <td>Bond St / Queen St E</td>\n",
       "      <td>43.653236</td>\n",
       "      <td>-79.376716</td>\n",
       "      <td>5</td>\n",
       "    </tr>\n",
       "    <tr>\n",
       "      <th>4</th>\n",
       "      <td>8f8af40d9388c8a3962559e8681d3db7</td>\n",
       "      <td>Church St / Alexander St</td>\n",
       "      <td>43.663722</td>\n",
       "      <td>-79.380288</td>\n",
       "      <td>7</td>\n",
       "    </tr>\n",
       "    <tr>\n",
       "      <th>...</th>\n",
       "      <td>...</td>\n",
       "      <td>...</td>\n",
       "      <td>...</td>\n",
       "      <td>...</td>\n",
       "      <td>...</td>\n",
       "    </tr>\n",
       "    <tr>\n",
       "      <th>669</th>\n",
       "      <td>7f760f7680dae3ad47ef0821337c8366</td>\n",
       "      <td>Scarborough Soccer Centre</td>\n",
       "      <td>43.715466</td>\n",
       "      <td>-79.287660</td>\n",
       "      <td>0</td>\n",
       "    </tr>\n",
       "    <tr>\n",
       "      <th>670</th>\n",
       "      <td>6f7157a5846ff850e7e5b9f6b8b450c4</td>\n",
       "      <td>Lansdowne Ave / Seaforth Ave</td>\n",
       "      <td>43.642904</td>\n",
       "      <td>-79.437461</td>\n",
       "      <td>3</td>\n",
       "    </tr>\n",
       "    <tr>\n",
       "      <th>671</th>\n",
       "      <td>cc5bd0485cb1b99156098277af99641f</td>\n",
       "      <td>Danforth Rd / Birchmount Rd</td>\n",
       "      <td>43.706880</td>\n",
       "      <td>-79.268510</td>\n",
       "      <td>0</td>\n",
       "    </tr>\n",
       "    <tr>\n",
       "      <th>672</th>\n",
       "      <td>362434f77c0efeb50a5deb4ca9ce8969</td>\n",
       "      <td>Pharmacy Ave / Teesdale Pl</td>\n",
       "      <td>43.697356</td>\n",
       "      <td>-79.285287</td>\n",
       "      <td>2</td>\n",
       "    </tr>\n",
       "    <tr>\n",
       "      <th>673</th>\n",
       "      <td>ec83cf5759b66963ff5ea75bee4b9f1d</td>\n",
       "      <td>Yonge St / Montgomery Ave - SMART</td>\n",
       "      <td>43.709609</td>\n",
       "      <td>-79.399151</td>\n",
       "      <td>1</td>\n",
       "    </tr>\n",
       "  </tbody>\n",
       "</table>\n",
       "<p>674 rows × 5 columns</p>\n",
       "</div>"
      ],
      "text/plain": [
       "                           Station_id                               Name  \\\n",
       "0    fb337bbed72e2be090071e199899b2be          Queen St E / Woodward Ave   \n",
       "1    4ff88d5880e71aa40d34cfe5d09b0ca7        Primrose Ave / Davenport Rd   \n",
       "2    a09c67c0b419654d907c9134b108e328          Queen St. E / Rhodes Ave.   \n",
       "3    d6a9daee68070a8b106cfb598d81308c               Bond St / Queen St E   \n",
       "4    8f8af40d9388c8a3962559e8681d3db7           Church St / Alexander St   \n",
       "..                                ...                                ...   \n",
       "669  7f760f7680dae3ad47ef0821337c8366          Scarborough Soccer Centre   \n",
       "670  6f7157a5846ff850e7e5b9f6b8b450c4      Lansdowne Ave / Seaforth Ave    \n",
       "671  cc5bd0485cb1b99156098277af99641f       Danforth Rd / Birchmount Rd    \n",
       "672  362434f77c0efeb50a5deb4ca9ce8969         Pharmacy Ave / Teesdale Pl   \n",
       "673  ec83cf5759b66963ff5ea75bee4b9f1d  Yonge St / Montgomery Ave - SMART   \n",
       "\n",
       "      Latitude  Longitude  Free Bikes  \n",
       "0    43.665269 -79.319796          16  \n",
       "1    43.671420 -79.445947           1  \n",
       "2    43.666224 -79.317693          20  \n",
       "3    43.653236 -79.376716           5  \n",
       "4    43.663722 -79.380288           7  \n",
       "..         ...        ...         ...  \n",
       "669  43.715466 -79.287660           0  \n",
       "670  43.642904 -79.437461           3  \n",
       "671  43.706880 -79.268510           0  \n",
       "672  43.697356 -79.285287           2  \n",
       "673  43.709609 -79.399151           1  \n",
       "\n",
       "[674 rows x 5 columns]"
      ]
     },
     "execution_count": 39,
     "metadata": {},
     "output_type": "execute_result"
    }
   ],
   "source": [
    "df_bike # testing dataframe"
   ]
  },
  {
   "cell_type": "code",
   "execution_count": null,
   "metadata": {},
   "outputs": [],
   "source": []
  }
 ],
 "metadata": {
  "kernelspec": {
   "display_name": "Python 3 (ipykernel)",
   "language": "python",
   "name": "python3"
  },
  "language_info": {
   "codemirror_mode": {
    "name": "ipython",
    "version": 3
   },
   "file_extension": ".py",
   "mimetype": "text/x-python",
   "name": "python",
   "nbconvert_exporter": "python",
   "pygments_lexer": "ipython3",
   "version": "3.11.3"
  }
 },
 "nbformat": 4,
 "nbformat_minor": 4
}
